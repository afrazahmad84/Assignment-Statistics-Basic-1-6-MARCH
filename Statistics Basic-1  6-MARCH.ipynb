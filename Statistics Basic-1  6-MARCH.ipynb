{
 "cells": [
  {
   "cell_type": "raw",
   "id": "e00d014d",
   "metadata": {},
   "source": [
    "Q1. What is Statistics?\n",
    "\n",
    "Ans:-\n",
    "Statistics is the science  collecting, organizing and analyzing, interpreting and presenting the data."
   ]
  },
  {
   "cell_type": "raw",
   "id": "2cefada5",
   "metadata": {},
   "source": [
    "Q2. Define the different types of statistics and give an example of when each type might be used.\n",
    "\n",
    "Ans:-\n",
    "There are two types of statistics \n",
    "1-Descritive Statistics\n",
    "2-inferential Statistics\n",
    "\n",
    "1-Descritive Statistics:-it consists of organizing and summarizing the data in Descritive Statistics we will use to calculate mean, median and mod\n",
    "2-inferential Statistics:-it consists of using data you have measured from the conclusion for the data. "
   ]
  },
  {
   "cell_type": "raw",
   "id": "f0775429",
   "metadata": {},
   "source": [
    "Q3. What are the different types of data and how do they differ from each other? Provide an example of each type of data.\n",
    "\n",
    "Ans:-\n",
    "There are two types of data type\n",
    "1. Qualitative data \n",
    "a.Nominal data\n",
    "eg:- Gender (Women, Men)\n",
    "b.ordinal\n",
    "eg:-Letter grades: A, B, C, and etc.\n",
    "2.Quantitative data\n",
    "a.Discrete data\n",
    "eg:-The number of students in a class\n",
    "b.continuous\n",
    "eg:-Daily temperature recordings of a place"
   ]
  },
  {
   "cell_type": "raw",
   "id": "31d01ec2",
   "metadata": {},
   "source": [
    "Q4. Categorise the following datasets with respect to quantitative and qualitative data types:\n",
    "(i) Grading in exam: A+, A, B+, B, C+, C, D, E\n",
    "(ii) Colour of mangoes: yellow, green, orange, red\n",
    "(iii) Height data of a class: [178.9, 179, 179.5, 176, 177.2, 178.3, 175.8,...]\n",
    "(iv) Number of mangoes exported by a farm: [500, 600, 478, 672, ...]\n",
    "\n",
    "Ans:-\n",
    "(i) Qualitative\n",
    "(ii) Qualitative \n",
    "(iii) Quantitative\n",
    "(iv) Quantitative"
   ]
  },
  {
   "cell_type": "raw",
   "id": "4b086cda",
   "metadata": {},
   "source": [
    "Q5. Explain the concept of levels of measurement and give an example of a variable for each level.\n",
    "\n",
    "(i) Nominal scale data\n",
    "(ii) Ordinal scale data\n",
    "(iii) Interval scale data\n",
    "(iv) Ratio scale Data\n",
    "\n",
    "(i) Nominal scale data:-\n",
    "1.Qualitative/categorical\n",
    "2. eg. gender,colors\n",
    "3.order does not matter\n",
    "(ii) Ordinal Scale Data:-\n",
    "1. Ranking is important\n",
    "2.order metter\n",
    "Difference cannot be measured \n",
    "eg:-Best\n",
    "    good\n",
    "    bad\n",
    "(iii) (iii) Interval scale data:-\n",
    "1.the order matter\n",
    "2.Difference can be measured\n",
    "3.ratio cannot be measured\n",
    "4.No True \"o\" starting point\n",
    "(iv) Ratio scale Data:-\n",
    "1 The order matter\n",
    "2.Differences are measurable\n",
    "\n",
    "\n"
   ]
  },
  {
   "cell_type": "raw",
   "id": "2dcfcaa9",
   "metadata": {},
   "source": [
    "Q6. Why is it important to understand the level of measurement when analyzing data? Provide an\n",
    "example to illustrate your answer.\n",
    "\n",
    "Ans:-\n",
    "Level of measurement, also known as scale of measurement, refers to the process of categorizing data based on the characteristics and properties of the data. It is important in statistics because it helps determine the appropriate statistical methods and tests that can be used to analyze the data.\n",
    "\n"
   ]
  },
  {
   "cell_type": "code",
   "execution_count": null,
   "id": "8eb41e14",
   "metadata": {},
   "outputs": [],
   "source": []
  },
  {
   "cell_type": "raw",
   "id": "cb46cf50",
   "metadata": {},
   "source": [
    "Q7. How nominal data type is different from ordinal data type.\n",
    "Ans:-\n",
    "Different between nominal data type and ordinal data type\n",
    "In the nominal data type does not matter the order but ordinal data type always follow the order.\n"
   ]
  },
  {
   "cell_type": "raw",
   "id": "3a7c5270",
   "metadata": {},
   "source": [
    "Q8. Which type of plot can be used to display data in terms of range?\n",
    "\n",
    "Ans:-\n",
    "A histogram is a specific type of bar chart, where the categories are ranges of numbers. Histograms therefore show combined continuous data.\n",
    "\n"
   ]
  },
  {
   "cell_type": "raw",
   "id": "df4de2c3",
   "metadata": {},
   "source": [
    "Q9. Describe the difference between descriptive and inferential statistics. Give an example of each\n",
    "type of statistics and explain how they are used.\n",
    "\n",
    "Ans:-\n",
    "descriptive statistics:- Descriptive statistics explains already known data related to a particular sample or population of a small size\n",
    "eg:-student's grade point average (GPA)\n",
    "\n",
    "Inferential statistics helps to compare data, make hypotheses and predictions.\n",
    "eg:-making estimates about populations\n"
   ]
  },
  {
   "cell_type": "raw",
   "id": "e4c6d1de",
   "metadata": {},
   "source": [
    "Q10. What are some common measures of central tendency and variability used in statistics? Explain\n",
    "how each measure can be used to describe a dataset.\n",
    "\n",
    "Ans:-\n",
    "these measures include the mean, median, and mode. These statistics indicate where most values in a distribution fall and are also referred to as the central location of a distribution. You can think of central tendency as the propensity for data points to cluster around a middle value"
   ]
  }
 ],
 "metadata": {
  "kernelspec": {
   "display_name": "Python 3 (ipykernel)",
   "language": "python",
   "name": "python3"
  },
  "language_info": {
   "codemirror_mode": {
    "name": "ipython",
    "version": 3
   },
   "file_extension": ".py",
   "mimetype": "text/x-python",
   "name": "python",
   "nbconvert_exporter": "python",
   "pygments_lexer": "ipython3",
   "version": "3.9.12"
  }
 },
 "nbformat": 4,
 "nbformat_minor": 5
}
